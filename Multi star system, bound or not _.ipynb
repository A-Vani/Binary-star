{
 "cells": [
  {
   "cell_type": "markdown",
   "id": "0b7daa66",
   "metadata": {},
   "source": [
    "Code to find if a multi star system is bound or not. First input the mass, relative position of the stars and their radial velocity. The code finds the center of mass of the system and uses it to calculate the kinetic energy and potential energy. If the ratio of KE/PE is <1 it is considered to be gravitationally bound system. The code also shows the system configuration in a simple plot"
   ]
  },
  {
   "cell_type": "code",
   "execution_count": 3,
   "id": "ce4e7a60",
   "metadata": {},
   "outputs": [],
   "source": [
    "#required libreries\n",
    "\n",
    "%matplotlib inline\n",
    "import numpy as np\n",
    "import astropy.units as u\n",
    "from astropy.units import cds\n",
    "cds.enable\n",
    "\n",
    "import matplotlib.pyplot as plt"
   ]
  },
  {
   "cell_type": "markdown",
   "id": "e24bad83",
   "metadata": {},
   "source": [
    "# Multi star system, bound or not ?"
   ]
  },
  {
   "cell_type": "markdown",
   "id": "d20a1013",
   "metadata": {},
   "source": [
    "Here we consider 4 star system.\n",
    "Set relative positions and velocities for all 4 stellar objects.\n",
    "The relative position can be obtained from projected distance and velocity is the line of sight velocity (eg Radial Velocity)\n",
    "\n",
    "The mass unit is $M_\\odot$, the position unit is $AU$, and the radial velocity unit is km s$^{-1}$.\n"
   ]
  },
  {
   "cell_type": "code",
   "execution_count": 16,
   "id": "999646a4",
   "metadata": {},
   "outputs": [],
   "source": [
    "#here we use the data for GJ1135 (two components), GJ1136A, GJ1136B\n",
    "\n",
    "mass=np.array([0.5, 0.5, 0.5, 0.5]) #Mass in Mo\n",
    "x_au=np.array([0.0, -15.5276, 10234.18908, 10533.4268]) #X (relative) position in AU\n",
    "y_au=np.array([0.0, -6.4234, 15979.9196, 15823.4968]) #Y (relative) position in AU\n",
    "v_r=np.array([59.55,  59.55 , 31.56,  30.70]) #Radial velocity in kmps"
   ]
  },
  {
   "cell_type": "markdown",
   "id": "9a5c00d0",
   "metadata": {},
   "source": [
    "The center of mass ($\\vec{r}_{com}$ and $\\vec{v}_{com}$) is calculated as \n",
    "$$\\vec{r}_{com} = \\frac{ 1}{\\Sigma_i m_i} \\Sigma_i \\vec{r}_i m_i$$\n",
    "$$\\vec{v}_{com} = \\frac{ 1}{\\Sigma_i m_i} \\Sigma_i \\vec{v}_i m_i.$$"
   ]
  },
  {
   "cell_type": "code",
   "execution_count": 17,
   "id": "b8f0d80c",
   "metadata": {},
   "outputs": [
    {
     "name": "stdout",
     "output_type": "stream",
     "text": [
      "r_com =  [7.76117055e+14 1.18919061e+15] m\n",
      "v_com =  45.34 km/s\n"
     ]
    }
   ],
   "source": [
    "x_com= np.sum(x_au*mass)/np.sum(mass) #x center of mass\n",
    "y_com= np.sum(y_au*mass)/np.sum(mass) #y center of mass\n",
    "v_com= np.sum(v_r*mass)/np.sum(mass) #velocity of center of mass\n",
    "\n",
    "print('r_com = ', (np.array([x_com,y_com])*u.au).to(u.m))\n",
    "print('v_com = ', np.round(v_com,2), 'km/s')"
   ]
  },
  {
   "cell_type": "markdown",
   "id": "07dc7ac6",
   "metadata": {},
   "source": [
    "Display system configuration.\n"
   ]
  },
  {
   "cell_type": "code",
   "execution_count": 24,
   "id": "929e564c",
   "metadata": {},
   "outputs": [
    {
     "data": {
      "text/plain": [
       "<matplotlib.legend.Legend at 0x7f08f570ef60>"
      ]
     },
     "execution_count": 24,
     "metadata": {},
     "output_type": "execute_result"
    },
    {
     "data": {
      "image/png": "[encoded data removed]",
      "text/plain": [
       "<Figure size 288x288 with 1 Axes>"
      ]
     },
     "metadata": {
      "needs_background": "light"
     },
     "output_type": "display_data"
    }
   ],
   "source": [
    "low_lim = 0 #this is the 2nd star in the array\n",
    "high_lim = len(x_au) #max number of stars\n",
    "\n",
    "fig=plt.figure( figsize=( 4.0, 4.0) )\n",
    "ax= plt.subplot()\n",
    "color_sym=['red','blue','green','orange'] #4 different colors for 4 stars\n",
    "\n",
    "plt.scatter( x_au[0], y_au[0], color=color_sym[0], s=100, marker='*', label='Star at 0,0') # (x,y)=(0,0) position star, red star marker\n",
    "plt.scatter( x_au[low_lim:high_lim], y_au[low_lim:high_lim], color=color_sym[low_lim:high_lim], s=100, marker='x', edgecolor='k')\n",
    "plt.scatter( x_com, y_com, color='black', marker='+', s=50, label='COM', alpha =0.6) #black plus for center of mass\n",
    "\n",
    "plt.setp( ax, xlabel=\"x (AU)\")\n",
    "plt.setp( ax, ylabel=\"y (AU)\")\n",
    "\n",
    "ax.locator_params(axis = 'both', nbins = 5)\n",
    "ax.legend()"
   ]
  },
  {
   "cell_type": "markdown",
   "id": "2f225c7f",
   "metadata": {},
   "source": [
    "# Is the entire system bound?"
   ]
  },
  {
   "cell_type": "markdown",
   "id": "2b42e2ea",
   "metadata": {},
   "source": [
    "Determine binding energy for entire system. It calculates the Kinetic and Potential energies to then determine if the system is bound. The total potential energy of the system is calculated as \n",
    "$$E_{pot, tot} = \\Sigma_{i\\ne j} \\frac{-G m_i m_j}{\\left|\\vec{r}_{i}-\\vec{r}_{j}\\right|},$$ \n",
    "while the total kinetic energy of the system is calculated as\n",
    "$$E_{kin, tot}= \\Sigma_i \\frac{m_i \\left| \\vec{v}_i -\\vec{v}_{com}\\right|^2 }{2},$$\n",
    "where $\\vec{v}_{com}$ is the velocity in the center of mass frame.\n",
    "\n",
    "The energies are all calculated and stored in Joules."
   ]
  },
  {
   "cell_type": "code",
   "execution_count": 5,
   "id": "84d12e01",
   "metadata": {},
   "outputs": [
    {
     "name": "stdout",
     "output_type": "stream",
     "text": [
      "Ekin+Epot             Ekin              Epot\n",
      "[[ 7.40892389e+37  1.00380277e+38 -2.62910382e+37]\n",
      " [ 7.40892728e+37  1.00380277e+38 -2.62910044e+37]\n",
      " [ 9.30445524e+37  9.43971038e+37 -1.35255140e+36]\n",
      " [ 1.05194814e+38  1.06547285e+38 -1.35247145e+36]] J\n"
     ]
    }
   ],
   "source": [
    "nstars=len(x_au)  #number of stars in total\n",
    "Epot_i=np.zeros(nstars)*u.J #initialise potential energy array\n",
    "Ekin_i=np.zeros(nstars)*u.J #initialise kinetic energy array\n",
    "\n",
    "#Kinetic energy for each object\n",
    "Ekin_i = ( 0.5*mass*u.Msun* ((v_r-v_com)*u.km/u.s)**2  ).to(u.J)\n",
    "\n",
    "#loop to calculate the potential energy as per the equation above\n",
    "for i in range(nstars):\n",
    "    for j in range(nstars):\n",
    "        if i != j:\n",
    "            rij=[x_au[i]-x_au[j], y_au[i]-y_au[j]]\n",
    "            Epot_i[i] += -( mass[i]*mass[j]/( np.linalg.norm(rij))*cds.G*u.Msun*u.Msun/u.au).to(u.J)\n",
    "print ('Ekin+Epot             Ekin              Epot')\n",
    "print (np.array([(Ekin_i+Epot_i).T, Ekin_i.T, Epot_i.T]).T * Epot_i.unit)"
   ]
  },
  {
   "cell_type": "markdown",
   "id": "b1c18a51",
   "metadata": {},
   "source": [
    "Kinetic-Potential energy ratio for entire system (bound if <1)"
   ]
  },
  {
   "cell_type": "code",
   "execution_count": 6,
   "id": "f9a343d3",
   "metadata": {},
   "outputs": [
    {
     "name": "stdout",
     "output_type": "stream",
     "text": [
      "KE/PE ratio= 7.266\n"
     ]
    }
   ],
   "source": [
    "print ('KE/PE ratio=',np.round(np.sum(Ekin_i)/np.abs(np.sum(Epot_i)), decimals=3))"
   ]
  },
  {
   "cell_type": "markdown",
   "id": "48bfbf2b",
   "metadata": {},
   "source": [
    "We can see that the system is not bounded in a quadruple system."
   ]
  },
  {
   "cell_type": "code",
   "execution_count": null,
   "id": "b3f39d53",
   "metadata": {},
   "outputs": [],
   "source": []
  }
 ],
 "metadata": {
  "kernelspec": {
   "display_name": "Python 3",
   "language": "python",
   "name": "python3"
  },
  "language_info": {
   "codemirror_mode": {
    "name": "ipython",
    "version": 3
   },
   "file_extension": ".py",
   "mimetype": "text/x-python",
   "name": "python",
   "nbconvert_exporter": "python",
   "pygments_lexer": "ipython3",
   "version": "3.7.3"
  }
 },
 "nbformat": 4,
 "nbformat_minor": 5
}
